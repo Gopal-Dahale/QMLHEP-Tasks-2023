{
 "cells": [
  {
   "cell_type": "markdown",
   "id": "922a4592",
   "metadata": {},
   "source": [
    "# Task I: Quantum Computing Part \n",
    "\n",
    "## Quantum circuit with PennyLane\n",
    "\n",
    "- With 5 qubits \n",
    "- Apply Hadamard operation on every qubit \n",
    "- Apply CNOT operation on (0, 1), (1,2), (2,3), (3,4) \n",
    "- SWAP (0, 4) \n",
    "- Rotate X with pi/2 on any qubit \n",
    "- Plot the circuit "
   ]
  },
  {
   "cell_type": "code",
   "execution_count": 80,
   "id": "e276f262",
   "metadata": {},
   "outputs": [],
   "source": [
    "import pennylane as qml\n",
    "from pennylane import numpy as np\n",
    "import matplotlib.pyplot as plt"
   ]
  },
  {
   "cell_type": "code",
   "execution_count": 99,
   "id": "ef1514e1",
   "metadata": {},
   "outputs": [],
   "source": [
    "n = 5  # Number of qubits\n",
    "\n",
    "# Define a device\n",
    "dev = qml.device('default.qubit', wires = n)\n",
    "\n",
    "# construct the qnode\n",
    "# We apply RX gate on first qubit\n",
    "# The circuit measures the probablities on every qubit\n",
    "@qml.qnode(dev)\n",
    "def circuit(theta):\n",
    "    for i in range(n):\n",
    "        qml.Hadamard(i)\n",
    "    for i in range(n-1):\n",
    "        qml.CNOT((i,i+1))\n",
    "    qml.SWAP((0,4))\n",
    "    qml.RX(theta, 0)\n",
    "    return qml.probs(wires = range(n))"
   ]
  },
  {
   "cell_type": "code",
   "execution_count": 100,
   "id": "500e6359",
   "metadata": {},
   "outputs": [
    {
     "name": "stdout",
     "output_type": "stream",
     "text": [
      "0: ──H─╭●──────────╭SWAP──RX(1.57)─┤ ╭Probs\n",
      "1: ──H─╰X─╭●───────│───────────────┤ ├Probs\n",
      "2: ──H────╰X─╭●────│───────────────┤ ├Probs\n",
      "3: ──H───────╰X─╭●─│───────────────┤ ├Probs\n",
      "4: ──H──────────╰X─╰SWAP───────────┤ ╰Probs\n"
     ]
    }
   ],
   "source": [
    "print(qml.draw(circuit)(np.pi/2))"
   ]
  },
  {
   "cell_type": "code",
   "execution_count": 101,
   "id": "cef5f845",
   "metadata": {},
   "outputs": [
    {
     "data": {
      "text/plain": [
       "tensor([0.03125, 0.03125, 0.03125, 0.03125, 0.03125, 0.03125, 0.03125,\n",
       "        0.03125, 0.03125, 0.03125, 0.03125, 0.03125, 0.03125, 0.03125,\n",
       "        0.03125, 0.03125, 0.03125, 0.03125, 0.03125, 0.03125, 0.03125,\n",
       "        0.03125, 0.03125, 0.03125, 0.03125, 0.03125, 0.03125, 0.03125,\n",
       "        0.03125, 0.03125, 0.03125, 0.03125], requires_grad=True)"
      ]
     },
     "execution_count": 101,
     "metadata": {},
     "output_type": "execute_result"
    }
   ],
   "source": [
    "circuit(np.pi/2)"
   ]
  },
  {
   "cell_type": "markdown",
   "id": "5f6ed0df",
   "metadata": {},
   "source": [
    "## Swap Test based circuit\n",
    "\n",
    "- Apply a Hadmard gate to the first qubit\n",
    "- rotate the second qubit by pi/3 around X\n",
    "- Apply Hadamard gate to the third and fourth qubit\n",
    "- Perform a swap test between the states of the first and second qubit $|q_1 q_2>$ and the third and fourth qubit $|q_3 q_4>$\n"
   ]
  },
  {
   "cell_type": "code",
   "execution_count": 72,
   "id": "6bd276f8",
   "metadata": {},
   "outputs": [],
   "source": [
    "n = 5  # Number of qubits\n",
    "\n",
    "# Define a device\n",
    "dev = qml.device('default.qubit', wires = n)\n",
    "\n",
    "# construct the qnode\n",
    "# The circuit measures the probablities on last qubit\n",
    "@qml.qnode(dev)\n",
    "def circuit(theta):\n",
    "    qml.Hadamard(0)\n",
    "    qml.RZ(theta, 1)\n",
    "    qml.Hadamard(2)\n",
    "    qml.Hadamard(3)\n",
    "    \n",
    "    # SWAP Test\n",
    "    qml.Hadamard(4)\n",
    "    qml.CSWAP((4,0,1))\n",
    "    qml.CSWAP((4,2,3))\n",
    "    qml.Hadamard(4)\n",
    "    \n",
    "    return qml.probs(wires = n-1)"
   ]
  },
  {
   "cell_type": "code",
   "execution_count": 73,
   "id": "259e571d",
   "metadata": {},
   "outputs": [
    {
     "name": "stdout",
     "output_type": "stream",
     "text": [
      "0: ──H────────╭SWAP──────────┤       \n",
      "1: ──RZ(1.05)─├SWAP──────────┤       \n",
      "2: ──H────────│─────╭SWAP────┤       \n",
      "3: ──H────────│─────├SWAP────┤       \n",
      "4: ──H────────╰●────╰●─────H─┤  Probs\n"
     ]
    }
   ],
   "source": [
    "print(qml.draw(circuit)(np.pi/3))"
   ]
  },
  {
   "cell_type": "code",
   "execution_count": 74,
   "id": "c9629175",
   "metadata": {},
   "outputs": [
    {
     "name": "stdout",
     "output_type": "stream",
     "text": [
      "[0.75 0.25]\n"
     ]
    }
   ],
   "source": [
    "print(circuit(np.pi/3))"
   ]
  },
  {
   "cell_type": "markdown",
   "id": "1d6cabd1",
   "metadata": {},
   "source": [
    "$$\\newcommand{\\ket}[1]{\\left|{#1}\\right\\rangle}$$\n",
    "$$\\newcommand{\\bra}[1]{\\left\\langle{#1}\\right|}$$\n",
    "$$\\newcommand{\\braket}[2]{\\left\\langle{#1}\\middle|{#2}\\right\\rangle}$$\n",
    "\n",
    "\n",
    "consider four states: $\\ket{a_0}, \\ket{a_1}, \\ket{a_2}, \\ket{a_3}$ which represents the states of first 4 qubits after application of $H$, $R_y$, $H$, $H$ gates respectively. The state of the system at the beginning of the protocol is $\\ket{0,a_3,a_2,a_1,a_0}$. After the hadamard gate on the last qubit, the state of the system is \n",
    "\n",
    "\\begin{align}\n",
    "    \\frac{1}{\\sqrt{2}} \\left( \\ket{0,a_3,a_2,a_1,a_0} + \\ket{1,a_3,a_2,a_1,a_0} \\right)\n",
    "\\end{align}\n",
    "\n",
    "The controlled SWAP gates transforms the state into\n",
    "\n",
    "\\begin{align}\n",
    "    \\frac{1}{\\sqrt{2}} \\left( \\ket{0,a_3,a_2,a_1,a_0} + \\ket{1,a_2,a_3,a_0,a_1} \\right)\n",
    "\\end{align}\n",
    "\n",
    "The second Hadamard gate results in\n",
    "\n",
    "\\begin{align}\n",
    "    \\frac{1}{2} \\left( \\ket{0,a_3,a_2,a_1,a_0} + \\ket{1,a_3,a_2,a_1,a_0} + \\ket{0,a_2,a_3,a_0,a_1} - \\ket{1,a_2,a_3,a_0,a_1} \\right) \\\\\n",
    "    =  \\frac{1}{2} \\left( \\ket{0}(\\ket{a_3,a_2,a_1,a_0} + \\ket{a_2,a_3,a_0,a_1}) + \\ket{1}\\ket{a_3,a_2,a_1,a_0} +  - \\ket{a_2,a_3,a_0,a_1}) \\right)\n",
    "\\end{align}\n",
    "\n",
    "The measurement gate on the last qubit ensures that it's 0 with a probability of\n",
    "\n",
    "\\begin{align}\n",
    "P(last~qubit = 0) = \\frac{1}{2} ( \\bra{a_3,a_2,a_1,a_0} + \\bra{a_2,a_3,a_0,a_1} ) \\frac{1}{2} ( \\ket{a_3,a_2,a_1,a_0} + \\ket{a_2,a_3,a_0,a_1} ) \\\\\n",
    "\\end{align}\n",
    "\n",
    "\\begin{align}\n",
    "P(last~qubit = 0) = \\frac{1}{2} + \\frac{1}{2} |\\braket{a_3,a_2}{a_1,a_0}|^2\n",
    "\\end{align}\n",
    "\n",
    "We know that\n",
    "\\begin{align}\n",
    "\\ket{a_0} = \\ket{a_2} = \\ket{a_3} = \\frac{1}{\\sqrt{2}}(\\ket{0} + \\ket{1}) \\\\\n",
    "\\ket{a_1} = cos(\\frac{\\theta}{2})\\ket{0} -isin(\\frac{\\theta}{2})\\ket{1}\n",
    "\\end{align}\n",
    "\n",
    "Plugging in the values we get\n",
    "\n",
    "\\begin{align}\n",
    "P(last~qubit = 0) = \\frac{1}{2} + \\frac{1}{2}.\\frac{1}{2} = \\frac{3}{4} = 0.75\n",
    "\\end{align}\n",
    "\n",
    "Regardless the value of $\\theta$ the probability of last qubit being in $\\ket{0}$ is 0.75. This is because of the fact that in the norm squared we get $cos^2(\\frac{\\theta}{2}) + sin^2(\\frac{\\theta}{2} = 1$. This can also be verified from the plot below."
   ]
  },
  {
   "cell_type": "code",
   "execution_count": 75,
   "id": "2116de7a",
   "metadata": {},
   "outputs": [
    {
     "data": {
      "text/plain": [
       "[<matplotlib.lines.Line2D at 0x7fe88fb815e0>]"
      ]
     },
     "execution_count": 75,
     "metadata": {},
     "output_type": "execute_result"
    },
    {
     "data": {
      "image/png": "[encoded data removed]",
      "text/plain": [
       "<Figure size 640x480 with 1 Axes>"
      ]
     },
     "metadata": {},
     "output_type": "display_data"
    }
   ],
   "source": [
    "thetas = np.arange(0,2*np.pi, 0.1)\n",
    "prob_0s = [circuit(theta)[0] for theta in thetas]\n",
    "\n",
    "plt.plot(prob_0s)"
   ]
  },
  {
   "cell_type": "markdown",
   "id": "815ae784",
   "metadata": {},
   "source": [
    "If we change the $R_x$ gate to $R_y$ gate, we get the following equations\n",
    "\n",
    "\\begin{align}\n",
    "\\ket{a_1} = cos(\\frac{\\theta}{2})\\ket{0} + sin(\\frac{\\theta}{2})\\ket{1}\n",
    "\\end{align}\n",
    "\n",
    "\\begin{align}\n",
    "P(last~qubit = 0) &= \\frac{1}{2} + \\frac{1}{2}.\\frac{(cos(\\frac{\\theta}{2}) + sin(\\frac{\\theta}{2}))^2}{2} \\\\\n",
    "P(last~qubit = 0) &= \\frac{3 + sin(\\theta)}{4}\n",
    "\\end{align}\n",
    "\n",
    "The minimum valueof the above function is at $\\theta = 3\\pi/2$ which is 0.5 and the maximum value of the function is at $\\theta  = \\pi/2$ which is 1. This can also be verified from the plot below."
   ]
  },
  {
   "cell_type": "code",
   "execution_count": 76,
   "id": "55175bd5",
   "metadata": {},
   "outputs": [],
   "source": [
    "n = 5  # Number of qubits\n",
    "\n",
    "# Define a device\n",
    "dev = qml.device('default.qubit', wires = n)\n",
    "\n",
    "# construct the qnode\n",
    "# The circuit measures the probablities on last qubit\n",
    "@qml.qnode(dev)\n",
    "def circuit(theta):\n",
    "    qml.Hadamard(0)\n",
    "    qml.RY(theta, 1)\n",
    "    qml.Hadamard(2)\n",
    "    qml.Hadamard(3)\n",
    "    \n",
    "    # SWAP Test\n",
    "    qml.Hadamard(4)\n",
    "    qml.CSWAP((4,0,1))\n",
    "    qml.CSWAP((4,2,3))\n",
    "    qml.Hadamard(4)\n",
    "    \n",
    "    return qml.probs(wires = n-1)"
   ]
  },
  {
   "cell_type": "code",
   "execution_count": 77,
   "id": "1feac102",
   "metadata": {},
   "outputs": [
    {
     "name": "stdout",
     "output_type": "stream",
     "text": [
      "0: ──H────────╭SWAP──────────┤       \n",
      "1: ──RY(1.05)─├SWAP──────────┤       \n",
      "2: ──H────────│─────╭SWAP────┤       \n",
      "3: ──H────────│─────├SWAP────┤       \n",
      "4: ──H────────╰●────╰●─────H─┤  Probs\n"
     ]
    }
   ],
   "source": [
    "print(qml.draw(circuit)(np.pi/3))"
   ]
  },
  {
   "cell_type": "code",
   "execution_count": 78,
   "id": "2af2ea37",
   "metadata": {},
   "outputs": [
    {
     "name": "stdout",
     "output_type": "stream",
     "text": [
      "[0.96650635 0.03349365]\n"
     ]
    }
   ],
   "source": [
    "print(circuit(np.pi/3))"
   ]
  },
  {
   "cell_type": "code",
   "execution_count": 79,
   "id": "c9e6079e",
   "metadata": {},
   "outputs": [
    {
     "data": {
      "text/plain": [
       "[<matplotlib.lines.Line2D at 0x7fe88fb9c040>]"
      ]
     },
     "execution_count": 79,
     "metadata": {},
     "output_type": "execute_result"
    },
    {
     "data": {
      "image/png": "[encoded data removed]",
      "text/plain": [
       "<Figure size 640x480 with 1 Axes>"
      ]
     },
     "metadata": {},
     "output_type": "display_data"
    }
   ],
   "source": [
    "thetas = np.arange(0,2*np.pi, 0.1)\n",
    "prob_0s = [circuit(theta)[0] for theta in thetas]\n",
    "\n",
    "plt.plot(prob_0s)"
   ]
  },
  {
   "cell_type": "markdown",
   "id": "ea3f879b",
   "metadata": {},
   "source": [
    "Hence at $\\theta = \\pi/2$ we get the maximum fidelity i.e. 1. This is true because $R_y(\\pi/2)$ is actually equal to hadamard gate with some global phase."
   ]
  }
 ],
 "metadata": {
  "kernelspec": {
   "display_name": "Python (qmlhep)",
   "language": "python",
   "name": "qmlhep"
  },
  "language_info": {
   "codemirror_mode": {
    "name": "ipython",
    "version": 3
   },
   "file_extension": ".py",
   "mimetype": "text/x-python",
   "name": "python",
   "nbconvert_exporter": "python",
   "pygments_lexer": "ipython3",
   "version": "3.8.1"
  }
 },
 "nbformat": 4,
 "nbformat_minor": 5
}
